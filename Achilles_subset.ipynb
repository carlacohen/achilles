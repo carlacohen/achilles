{
 "cells": [
  {
   "cell_type": "markdown",
   "id": "59cdc9e6",
   "metadata": {},
   "source": [
    "Aim: downsample the Achilles dataset to use as a test dataset"
   ]
  },
  {
   "cell_type": "code",
   "execution_count": null,
   "id": "698c2404",
   "metadata": {},
   "outputs": [],
   "source": [
    "# Import dependencies\n",
    "%matplotlib inline\n",
    "import os\n",
    "import numpy as np\n",
    "import pandas as pd\n",
    "import scanpy as sc\n",
    "\n",
    "# Print date and time:\n",
    "import datetime\n",
    "e = datetime.datetime.now()\n",
    "print (\"Current date and time = %s\" % e)\n",
    "\n",
    "# set a working directory\n",
    "wdir = '/project/tendonhca/ccohen/chromium/analysis/20240221_achilles_python'\n",
    "os.chdir( wdir )\n",
    "\n",
    "# folder structures\n",
    "RESULTS_FOLDERNAME = \"downsample/results/\"\n",
    "\n",
    "if not os.path.exists(RESULTS_FOLDERNAME):\n",
    "    os.makedirs(RESULTS_FOLDERNAME)\n",
    "\n",
    "# Set other settings\n",
    "sc.settings.verbosity = 3 # verbosity: errors (0), warnings (1), info (2), hints (3)\n",
    "sc.logging.print_versions()\n",
    "sc.set_figure_params(dpi=150, fontsize=10, dpi_save=600)"
   ]
  },
  {
   "cell_type": "markdown",
   "id": "e1600a13",
   "metadata": {},
   "source": [
    "Read in the concatenated object that has been through normalisation and dimensionality reduction steps  \n"
   ]
  },
  {
   "cell_type": "code",
   "execution_count": null,
   "id": "a1ed4e16",
   "metadata": {},
   "outputs": [],
   "source": [
    "path = os.path.join(wdir, 'concat_norm/results/merged_normalised.h5ad')\n",
    "path"
   ]
  },
  {
   "cell_type": "code",
   "execution_count": null,
   "id": "b5a194bc",
   "metadata": {},
   "outputs": [],
   "source": [
    "adata = sc.read_h5ad(path)\n",
    "adata"
   ]
  },
  {
   "cell_type": "code",
   "execution_count": null,
   "id": "15d4bc3f",
   "metadata": {},
   "outputs": [],
   "source": [
    "# for testing, subset the object to only 3 samples\n",
    "adata = adata[(adata.obs['sample'] == 'MSK0785-Ach-MB') |\n",
    "              (adata.obs['sample'] == 'MSK1250-Ach-MB2') |\n",
    "              (adata.obs['sample'] == 'MSK1556-Ach-MB')]\n",
    "adata"
   ]
  },
  {
   "cell_type": "code",
   "execution_count": null,
   "id": "0749d5b7",
   "metadata": {},
   "outputs": [],
   "source": [
    "# save the object\n",
    "adata.write(os.path.join(RESULTS_FOLDERNAME, 'Achilles_subset.h5ad'))"
   ]
  }
 ],
 "metadata": {
  "kernelspec": {
   "display_name": "Python 3 (ipykernel)",
   "language": "python",
   "name": "python3"
  },
  "language_info": {
   "codemirror_mode": {
    "name": "ipython",
    "version": 3
   },
   "file_extension": ".py",
   "mimetype": "text/x-python",
   "name": "python",
   "nbconvert_exporter": "python",
   "pygments_lexer": "ipython3",
   "version": "3.11.3"
  }
 },
 "nbformat": 4,
 "nbformat_minor": 5
}
